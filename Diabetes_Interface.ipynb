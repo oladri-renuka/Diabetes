{
 "cells": [
  {
   "cell_type": "code",
   "execution_count": 7,
   "id": "bc5ef20b",
   "metadata": {},
   "outputs": [],
   "source": [
    "import streamlit as st\n",
    "import pandas as pd\n",
    "from sklearn.ensemble import RandomForestClassifier\n",
    "from sklearn.model_selection import train_test_split\n",
    "from sklearn.impute import SimpleImputer\n",
    "import pickle\n",
    "\n",
    "data = pd.read_csv('diabetes.csv')\n",
    "\n",
    "imputer = SimpleImputer(strategy='mean')\n",
    "data_filled = pd.DataFrame(imputer.fit_transform(data), columns=data.columns)\n",
    "\n",
    "X = data_filled[['Pregnancies', 'Glucose', 'BloodPressure', 'SkinThickness', 'Insulin', 'BMI', 'DiabetesPedigreeFunction', 'Age']]\n",
    "y = data_filled['Outcome'] \n",
    "X_train, X_test, y_train, y_test = train_test_split(X, y, test_size=0.2, random_state=42)\n",
    "\n",
    "random_forest_classifier = RandomForestClassifier(n_estimators=100, random_state=42)\n",
    "random_forest_classifier.fit(X_train, y_train)\n",
    "\n",
    "model_path = 'random_forest_model.pkl'\n",
    "with open(model_path, 'wb') as model_file:\n",
    "    pickle.dump(random_forest_classifier, model_file)\n",
    "\n",
    "st.title(\"Diabetes Prediction App\")\n",
    "\n",
    "st.sidebar.header(\"Enter Patient Information\")\n",
    "\n",
    "pregnancies = st.sidebar.number_input(\"Pregnancies\", min_value=0, max_value=20, value=0, step=1)\n",
    "glucose = st.sidebar.number_input(\"Glucose\", min_value=0, max_value=300, value=0, step=1)\n",
    "blood_pressure = st.sidebar.number_input(\"Blood Pressure\", min_value=0, max_value=150, value=0, step=1)\n",
    "skin_thickness = st.sidebar.number_input(\"Skin Thickness\", min_value=0, max_value=100, value=0, step=1)\n",
    "insulin = st.sidebar.number_input(\"Insulin\", min_value=0, max_value=500, value=0, step=1)\n",
    "bmi = st.sidebar.number_input(\"BMI\", min_value=0.0, max_value=50.0, value=0.0, step=0.1)\n",
    "diabetes_pedigree_function = st.sidebar.number_input(\"Diabetes Pedigree Function\", min_value=0.0, max_value=2.0, value=0.0, step=0.01)\n",
    "age = st.sidebar.number_input(\"Age\", min_value=0, max_value=120, value=0, step=1)\n",
    "\n",
    "predict_button = st.sidebar.button(\"Predict\")\n",
    "\n",
    "if predict_button:\n",
    "    user_input = pd.DataFrame({\n",
    "        'Pregnancies': [pregnancies],\n",
    "        'Glucose': [glucose],\n",
    "        'BloodPressure': [blood_pressure],\n",
    "        'SkinThickness': [skin_thickness],\n",
    "        'Insulin': [insulin],\n",
    "        'BMI': [bmi],\n",
    "        'DiabetesPedigreeFunction': [diabetes_pedigree_function],\n",
    "        'Age': [age]\n",
    "    })\n",
    "\n",
    "    prediction = random_forest_classifier.predict(user_input)\n",
    "\n",
    "    st.subheader(\"Prediction\")\n",
    "    if prediction[0] == 1:\n",
    "        st.write(\"You are diabetic.\")\n",
    "    else:\n",
    "        st.write(\"Congratulations! You are not diabetic.\")\n"
   ]
  },
  {
   "cell_type": "code",
   "execution_count": null,
   "id": "53d1a1e5",
   "metadata": {},
   "outputs": [],
   "source": []
  }
 ],
 "metadata": {
  "kernelspec": {
   "display_name": "Python 3 (ipykernel)",
   "language": "python",
   "name": "python3"
  },
  "language_info": {
   "codemirror_mode": {
    "name": "ipython",
    "version": 3
   },
   "file_extension": ".py",
   "mimetype": "text/x-python",
   "name": "python",
   "nbconvert_exporter": "python",
   "pygments_lexer": "ipython3",
   "version": "3.9.12"
  }
 },
 "nbformat": 4,
 "nbformat_minor": 5
}
